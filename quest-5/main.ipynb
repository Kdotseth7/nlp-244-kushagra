{
 "cells": [
  {
   "cell_type": "code",
   "execution_count": 25,
   "metadata": {},
   "outputs": [],
   "source": [
    "import pandas as pd\n",
    "import gzip"
   ]
  },
  {
   "cell_type": "code",
   "execution_count": 47,
   "metadata": {},
   "outputs": [
    {
     "data": {
      "text/html": [
       "<div>\n",
       "<style scoped>\n",
       "    .dataframe tbody tr th:only-of-type {\n",
       "        vertical-align: middle;\n",
       "    }\n",
       "\n",
       "    .dataframe tbody tr th {\n",
       "        vertical-align: top;\n",
       "    }\n",
       "\n",
       "    .dataframe thead th {\n",
       "        text-align: right;\n",
       "    }\n",
       "</style>\n",
       "<table border=\"1\" class=\"dataframe\">\n",
       "  <thead>\n",
       "    <tr style=\"text-align: right;\">\n",
       "      <th></th>\n",
       "      <th>headline</th>\n",
       "      <th>label</th>\n",
       "    </tr>\n",
       "  </thead>\n",
       "  <tbody>\n",
       "    <tr>\n",
       "      <th>0</th>\n",
       "      <td>Everyone Stop And Appreciate Zac Efron Touchin...</td>\n",
       "      <td>1</td>\n",
       "    </tr>\n",
       "    <tr>\n",
       "      <th>1</th>\n",
       "      <td>Are You Ready To Sync Your Vagina With Your Sm...</td>\n",
       "      <td>1</td>\n",
       "    </tr>\n",
       "    <tr>\n",
       "      <th>2</th>\n",
       "      <td>25 Insanely Delicious Things To Make With 3 In...</td>\n",
       "      <td>1</td>\n",
       "    </tr>\n",
       "    <tr>\n",
       "      <th>3</th>\n",
       "      <td>MGM Mirage Reaches Deal on Las Vegas Project</td>\n",
       "      <td>0</td>\n",
       "    </tr>\n",
       "    <tr>\n",
       "      <th>4</th>\n",
       "      <td>This Is Why Soy Milk Goes Funny In Your Coffee</td>\n",
       "      <td>1</td>\n",
       "    </tr>\n",
       "  </tbody>\n",
       "</table>\n",
       "</div>"
      ],
      "text/plain": [
       "                                            headline  label\n",
       "0  Everyone Stop And Appreciate Zac Efron Touchin...      1\n",
       "1  Are You Ready To Sync Your Vagina With Your Sm...      1\n",
       "2  25 Insanely Delicious Things To Make With 3 In...      1\n",
       "3       MGM Mirage Reaches Deal on Las Vegas Project      0\n",
       "4     This Is Why Soy Milk Goes Funny In Your Coffee      1"
      ]
     },
     "execution_count": 47,
     "metadata": {},
     "output_type": "execute_result"
    }
   ],
   "source": [
    "# Read clickbait headlines\n",
    "with gzip.open('dataset/clickbait_data.gz', 'rb') as f:\n",
    "    clickbait_df = pd.read_csv(f, sep='\\t', header=None, names=['headline'])\n",
    "clickbait_df['label'] = 1\n",
    "\n",
    "# Read non-clickbait headlines\n",
    "with gzip.open('dataset/non_clickbait_data.gz', 'rb') as f:\n",
    "    non_clickbait_df = pd.read_csv(f, sep='\\t', header=None, names=['headline'])\n",
    "non_clickbait_df['label'] = 0\n",
    "\n",
    "# Merge clickbait and non-clickbait dataframes\n",
    "data = pd.concat([clickbait_df, non_clickbait_df])\n",
    "\n",
    "# Shuffle the rows to randomize the order\n",
    "data = data.sample(frac=1, random_state=1).reset_index(drop=True)\n",
    "\n",
    "data.head()"
   ]
  },
  {
   "cell_type": "code",
   "execution_count": 45,
   "metadata": {},
   "outputs": [
    {
     "name": "stdout",
     "output_type": "stream",
     "text": [
      "(32000, 2)\n"
     ]
    }
   ],
   "source": [
    "print(data.shape)"
   ]
  },
  {
   "cell_type": "code",
   "execution_count": 54,
   "metadata": {},
   "outputs": [
    {
     "name": "stdout",
     "output_type": "stream",
     "text": [
      "Percentage of clickbait headlines: 50.00%\n"
     ]
    }
   ],
   "source": [
    "# Calculate the percentage of clickbait headlines\n",
    "clickbait_percentage = (data[data['label'] == 1]['label'].count() / len(data)) * 100\n",
    "\n",
    "# Print the percentage of clickbait headlines\n",
    "print(f\"Percentage of clickbait headlines: {clickbait_percentage:.2f}%\")"
   ]
  }
 ],
 "metadata": {
  "kernelspec": {
   "display_name": "pvenv",
   "language": "python",
   "name": "python3"
  },
  "language_info": {
   "codemirror_mode": {
    "name": "ipython",
    "version": 3
   },
   "file_extension": ".py",
   "mimetype": "text/x-python",
   "name": "python",
   "nbconvert_exporter": "python",
   "pygments_lexer": "ipython3",
   "version": "3.10.9"
  },
  "orig_nbformat": 4,
  "vscode": {
   "interpreter": {
    "hash": "c2c87e16e3c5224f19fdcd75f65d952c55b5bf326ebfd42c1280c69b64e015be"
   }
  }
 },
 "nbformat": 4,
 "nbformat_minor": 2
}
